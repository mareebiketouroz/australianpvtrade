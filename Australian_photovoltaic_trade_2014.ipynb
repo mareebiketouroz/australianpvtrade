{
 "cells": [
  {
   "cell_type": "markdown",
   "metadata": {},
   "source": [
    "# Australian photovoltaic trade 2014\n",
    "\n",
    "This notebook looks at the photovoltaic trade to/from Australia as captured by comtrade.\n",
    "\n",
    "Which countries were the top importers of photovoltaics to Australia is 2014?\n",
    "Which countries did Australia export the most photovoltaics to in 2014?\n",
    "\n",
    "## Load data and restrict to useful columns"
   ]
  },
  {
   "cell_type": "code",
   "execution_count": 1,
   "metadata": {
    "collapsed": false
   },
   "outputs": [
    {
     "data": {
      "text/html": [
       "<div>\n",
       "<table border=\"1\" class=\"dataframe\">\n",
       "  <thead>\n",
       "    <tr style=\"text-align: right;\">\n",
       "      <th></th>\n",
       "      <th>Year</th>\n",
       "      <th>Period</th>\n",
       "      <th>Trade Flow</th>\n",
       "      <th>Reporter</th>\n",
       "      <th>Partner</th>\n",
       "      <th>Commodity</th>\n",
       "      <th>Commodity Code</th>\n",
       "      <th>Trade Value (US$)</th>\n",
       "    </tr>\n",
       "  </thead>\n",
       "  <tbody>\n",
       "    <tr>\n",
       "      <th>0</th>\n",
       "      <td>2014</td>\n",
       "      <td>201401</td>\n",
       "      <td>Imports</td>\n",
       "      <td>Australia</td>\n",
       "      <td>World</td>\n",
       "      <td>Photosensitive/photovoltaic/LED semiconductor ...</td>\n",
       "      <td>854140</td>\n",
       "      <td>39923929</td>\n",
       "    </tr>\n",
       "    <tr>\n",
       "      <th>1</th>\n",
       "      <td>2014</td>\n",
       "      <td>201401</td>\n",
       "      <td>Exports</td>\n",
       "      <td>Australia</td>\n",
       "      <td>World</td>\n",
       "      <td>Photosensitive/photovoltaic/LED semiconductor ...</td>\n",
       "      <td>854140</td>\n",
       "      <td>956475</td>\n",
       "    </tr>\n",
       "    <tr>\n",
       "      <th>2</th>\n",
       "      <td>2014</td>\n",
       "      <td>201401</td>\n",
       "      <td>Imports</td>\n",
       "      <td>Australia</td>\n",
       "      <td>Austria</td>\n",
       "      <td>Photosensitive/photovoltaic/LED semiconductor ...</td>\n",
       "      <td>854140</td>\n",
       "      <td>271761</td>\n",
       "    </tr>\n",
       "    <tr>\n",
       "      <th>3</th>\n",
       "      <td>2014</td>\n",
       "      <td>201401</td>\n",
       "      <td>Exports</td>\n",
       "      <td>Australia</td>\n",
       "      <td>Bolivia</td>\n",
       "      <td>Photosensitive/photovoltaic/LED semiconductor ...</td>\n",
       "      <td>854140</td>\n",
       "      <td>24189</td>\n",
       "    </tr>\n",
       "    <tr>\n",
       "      <th>4</th>\n",
       "      <td>2014</td>\n",
       "      <td>201401</td>\n",
       "      <td>Exports</td>\n",
       "      <td>Australia</td>\n",
       "      <td>Brazil</td>\n",
       "      <td>Photosensitive/photovoltaic/LED semiconductor ...</td>\n",
       "      <td>854140</td>\n",
       "      <td>202</td>\n",
       "    </tr>\n",
       "  </tbody>\n",
       "</table>\n",
       "</div>"
      ],
      "text/plain": [
       "   Year  Period Trade Flow   Reporter  Partner  \\\n",
       "0  2014  201401    Imports  Australia    World   \n",
       "1  2014  201401    Exports  Australia    World   \n",
       "2  2014  201401    Imports  Australia  Austria   \n",
       "3  2014  201401    Exports  Australia  Bolivia   \n",
       "4  2014  201401    Exports  Australia   Brazil   \n",
       "\n",
       "                                           Commodity Commodity Code  \\\n",
       "0  Photosensitive/photovoltaic/LED semiconductor ...         854140   \n",
       "1  Photosensitive/photovoltaic/LED semiconductor ...         854140   \n",
       "2  Photosensitive/photovoltaic/LED semiconductor ...         854140   \n",
       "3  Photosensitive/photovoltaic/LED semiconductor ...         854140   \n",
       "4  Photosensitive/photovoltaic/LED semiconductor ...         854140   \n",
       "\n",
       "   Trade Value (US$)  \n",
       "0           39923929  \n",
       "1             956475  \n",
       "2             271761  \n",
       "3              24189  \n",
       "4                202  "
      ]
     },
     "execution_count": 1,
     "metadata": {},
     "output_type": "execute_result"
    }
   ],
   "source": [
    "%matplotlib inline\n",
    "from pandas import *\n",
    "\n",
    "## comtrade API call for Bicycles, other cycles, not motorized 2014 monthly Australia \n",
    "URL = \"http://comtrade.un.org/api/get?max=5000&type=C&freq=M&px=HS&ps=2014&r=36&p=all&rg=2%2C1&cc=854140&fmt=csv\"\n",
    "COLUMNS=['Year', 'Period','Trade Flow','Reporter', 'Partner', 'Commodity','Commodity Code','Trade Value (US$)']\n",
    "\n",
    "pv = read_csv(URL,dtype={'Commodity Code':str, 'Reporter Code':str})\n",
    "pv=pv[COLUMNS]\n",
    "pv.head()"
   ]
  },
  {
   "cell_type": "markdown",
   "metadata": {},
   "source": [
    "## Split into imports and exports datasets"
   ]
  },
  {
   "cell_type": "code",
   "execution_count": 2,
   "metadata": {
    "collapsed": false
   },
   "outputs": [
    {
     "data": {
      "text/plain": [
       "dict_keys(['Exports', 'Imports'])"
      ]
     },
     "execution_count": 2,
     "metadata": {},
     "output_type": "execute_result"
    }
   ],
   "source": [
    "trade_flows = pv.groupby('Trade Flow')\n",
    "trade_flows.groups.keys()"
   ]
  },
  {
   "cell_type": "code",
   "execution_count": 3,
   "metadata": {
    "collapsed": false
   },
   "outputs": [
    {
     "data": {
      "text/html": [
       "<div>\n",
       "<table border=\"1\" class=\"dataframe\">\n",
       "  <thead>\n",
       "    <tr style=\"text-align: right;\">\n",
       "      <th></th>\n",
       "      <th>Year</th>\n",
       "      <th>Period</th>\n",
       "      <th>Trade Flow</th>\n",
       "      <th>Reporter</th>\n",
       "      <th>Partner</th>\n",
       "      <th>Commodity</th>\n",
       "      <th>Commodity Code</th>\n",
       "      <th>Trade Value (US$)</th>\n",
       "    </tr>\n",
       "  </thead>\n",
       "  <tbody>\n",
       "    <tr>\n",
       "      <th>0</th>\n",
       "      <td>2014</td>\n",
       "      <td>201401</td>\n",
       "      <td>Imports</td>\n",
       "      <td>Australia</td>\n",
       "      <td>World</td>\n",
       "      <td>Photosensitive/photovoltaic/LED semiconductor ...</td>\n",
       "      <td>854140</td>\n",
       "      <td>39923929</td>\n",
       "    </tr>\n",
       "    <tr>\n",
       "      <th>2</th>\n",
       "      <td>2014</td>\n",
       "      <td>201401</td>\n",
       "      <td>Imports</td>\n",
       "      <td>Australia</td>\n",
       "      <td>Austria</td>\n",
       "      <td>Photosensitive/photovoltaic/LED semiconductor ...</td>\n",
       "      <td>854140</td>\n",
       "      <td>271761</td>\n",
       "    </tr>\n",
       "    <tr>\n",
       "      <th>5</th>\n",
       "      <td>2014</td>\n",
       "      <td>201401</td>\n",
       "      <td>Imports</td>\n",
       "      <td>Australia</td>\n",
       "      <td>Canada</td>\n",
       "      <td>Photosensitive/photovoltaic/LED semiconductor ...</td>\n",
       "      <td>854140</td>\n",
       "      <td>36159</td>\n",
       "    </tr>\n",
       "    <tr>\n",
       "      <th>7</th>\n",
       "      <td>2014</td>\n",
       "      <td>201401</td>\n",
       "      <td>Imports</td>\n",
       "      <td>Australia</td>\n",
       "      <td>China</td>\n",
       "      <td>Photosensitive/photovoltaic/LED semiconductor ...</td>\n",
       "      <td>854140</td>\n",
       "      <td>33450462</td>\n",
       "    </tr>\n",
       "    <tr>\n",
       "      <th>9</th>\n",
       "      <td>2014</td>\n",
       "      <td>201401</td>\n",
       "      <td>Imports</td>\n",
       "      <td>Australia</td>\n",
       "      <td>Czech Rep.</td>\n",
       "      <td>Photosensitive/photovoltaic/LED semiconductor ...</td>\n",
       "      <td>854140</td>\n",
       "      <td>20092</td>\n",
       "    </tr>\n",
       "  </tbody>\n",
       "</table>\n",
       "</div>"
      ],
      "text/plain": [
       "   Year  Period Trade Flow   Reporter     Partner  \\\n",
       "0  2014  201401    Imports  Australia       World   \n",
       "2  2014  201401    Imports  Australia     Austria   \n",
       "5  2014  201401    Imports  Australia      Canada   \n",
       "7  2014  201401    Imports  Australia       China   \n",
       "9  2014  201401    Imports  Australia  Czech Rep.   \n",
       "\n",
       "                                           Commodity Commodity Code  \\\n",
       "0  Photosensitive/photovoltaic/LED semiconductor ...         854140   \n",
       "2  Photosensitive/photovoltaic/LED semiconductor ...         854140   \n",
       "5  Photosensitive/photovoltaic/LED semiconductor ...         854140   \n",
       "7  Photosensitive/photovoltaic/LED semiconductor ...         854140   \n",
       "9  Photosensitive/photovoltaic/LED semiconductor ...         854140   \n",
       "\n",
       "   Trade Value (US$)  \n",
       "0           39923929  \n",
       "2             271761  \n",
       "5              36159  \n",
       "7           33450462  \n",
       "9              20092  "
      ]
     },
     "execution_count": 3,
     "metadata": {},
     "output_type": "execute_result"
    }
   ],
   "source": [
    "pv_imports = trade_flows.get_group(\"Imports\")\n",
    "pv_imports.head()"
   ]
  },
  {
   "cell_type": "code",
   "execution_count": 4,
   "metadata": {
    "collapsed": false
   },
   "outputs": [
    {
     "data": {
      "text/html": [
       "<div>\n",
       "<table border=\"1\" class=\"dataframe\">\n",
       "  <thead>\n",
       "    <tr style=\"text-align: right;\">\n",
       "      <th></th>\n",
       "      <th>Year</th>\n",
       "      <th>Period</th>\n",
       "      <th>Trade Flow</th>\n",
       "      <th>Reporter</th>\n",
       "      <th>Partner</th>\n",
       "      <th>Commodity</th>\n",
       "      <th>Commodity Code</th>\n",
       "      <th>Trade Value (US$)</th>\n",
       "    </tr>\n",
       "  </thead>\n",
       "  <tbody>\n",
       "    <tr>\n",
       "      <th>1</th>\n",
       "      <td>2014</td>\n",
       "      <td>201401</td>\n",
       "      <td>Exports</td>\n",
       "      <td>Australia</td>\n",
       "      <td>World</td>\n",
       "      <td>Photosensitive/photovoltaic/LED semiconductor ...</td>\n",
       "      <td>854140</td>\n",
       "      <td>956475</td>\n",
       "    </tr>\n",
       "    <tr>\n",
       "      <th>3</th>\n",
       "      <td>2014</td>\n",
       "      <td>201401</td>\n",
       "      <td>Exports</td>\n",
       "      <td>Australia</td>\n",
       "      <td>Bolivia</td>\n",
       "      <td>Photosensitive/photovoltaic/LED semiconductor ...</td>\n",
       "      <td>854140</td>\n",
       "      <td>24189</td>\n",
       "    </tr>\n",
       "    <tr>\n",
       "      <th>4</th>\n",
       "      <td>2014</td>\n",
       "      <td>201401</td>\n",
       "      <td>Exports</td>\n",
       "      <td>Australia</td>\n",
       "      <td>Brazil</td>\n",
       "      <td>Photosensitive/photovoltaic/LED semiconductor ...</td>\n",
       "      <td>854140</td>\n",
       "      <td>202</td>\n",
       "    </tr>\n",
       "    <tr>\n",
       "      <th>6</th>\n",
       "      <td>2014</td>\n",
       "      <td>201401</td>\n",
       "      <td>Exports</td>\n",
       "      <td>Australia</td>\n",
       "      <td>Sri Lanka</td>\n",
       "      <td>Photosensitive/photovoltaic/LED semiconductor ...</td>\n",
       "      <td>854140</td>\n",
       "      <td>121380</td>\n",
       "    </tr>\n",
       "    <tr>\n",
       "      <th>8</th>\n",
       "      <td>2014</td>\n",
       "      <td>201401</td>\n",
       "      <td>Exports</td>\n",
       "      <td>Australia</td>\n",
       "      <td>China</td>\n",
       "      <td>Photosensitive/photovoltaic/LED semiconductor ...</td>\n",
       "      <td>854140</td>\n",
       "      <td>122522</td>\n",
       "    </tr>\n",
       "  </tbody>\n",
       "</table>\n",
       "</div>"
      ],
      "text/plain": [
       "   Year  Period Trade Flow   Reporter    Partner  \\\n",
       "1  2014  201401    Exports  Australia      World   \n",
       "3  2014  201401    Exports  Australia    Bolivia   \n",
       "4  2014  201401    Exports  Australia     Brazil   \n",
       "6  2014  201401    Exports  Australia  Sri Lanka   \n",
       "8  2014  201401    Exports  Australia      China   \n",
       "\n",
       "                                           Commodity Commodity Code  \\\n",
       "1  Photosensitive/photovoltaic/LED semiconductor ...         854140   \n",
       "3  Photosensitive/photovoltaic/LED semiconductor ...         854140   \n",
       "4  Photosensitive/photovoltaic/LED semiconductor ...         854140   \n",
       "6  Photosensitive/photovoltaic/LED semiconductor ...         854140   \n",
       "8  Photosensitive/photovoltaic/LED semiconductor ...         854140   \n",
       "\n",
       "   Trade Value (US$)  \n",
       "1             956475  \n",
       "3              24189  \n",
       "4                202  \n",
       "6             121380  \n",
       "8             122522  "
      ]
     },
     "execution_count": 4,
     "metadata": {},
     "output_type": "execute_result"
    }
   ],
   "source": [
    "pv_exports = trade_flows.get_group('Exports')\n",
    "pv_exports.head()"
   ]
  },
  {
   "cell_type": "markdown",
   "metadata": {},
   "source": [
    "## Get totals by trading partner for bicycle exports\n",
    "\n",
    "Sort and display list, and show top 10 compared to world in a bar plot."
   ]
  },
  {
   "cell_type": "code",
   "execution_count": 6,
   "metadata": {
    "collapsed": false
   },
   "outputs": [
    {
     "data": {
      "text/plain": [
       "Partner\n",
       "World                       19444197\n",
       "United States of America     4072410\n",
       "China                        3332125\n",
       "New Zealand                  2102075\n",
       "China, Hong Kong SAR         1419720\n",
       "Saudi Arabia                 1059326\n",
       "Japan                        1044779\n",
       "Fiji                          833138\n",
       "Germany                       612393\n",
       "Thailand                      592486\n",
       "Sri Lanka                     553528\n",
       "Brazil                        510585\n",
       "Mexico                        386473\n",
       "Papua New Guinea              334329\n",
       "Malaysia                      299867\n",
       "Chile                         287366\n",
       "Singapore                     250452\n",
       "France                        197424\n",
       "Netherlands                   150227\n",
       "French Polynesia              143344\n",
       "United Kingdom                109275\n",
       "United Arab Emirates           85879\n",
       "Cook Isds                      80684\n",
       "Ethiopia                       69411\n",
       "Spain                          61897\n",
       "Indonesia                      61113\n",
       "Uzbekistan                     55464\n",
       "South Africa                   55415\n",
       "Christmas Isds                 55138\n",
       "Kenya                          53651\n",
       "                              ...   \n",
       "Canada                         44733\n",
       "Bolivia                        43467\n",
       "Belgium                        42327\n",
       "Sierra Leone                   28987\n",
       "Jordan                         25497\n",
       "Philippines                    24236\n",
       "Israel                         22810\n",
       "Solomon Isds                   21102\n",
       "Qatar                          16669\n",
       "Brunei Darussalam              15338\n",
       "Other Asia, nes                15203\n",
       "Colombia                       14495\n",
       "Mozambique                     14115\n",
       "Dominican Rep.                 13757\n",
       "Vanuatu                        13216\n",
       "Ecuador                        11519\n",
       "Morocco                         9351\n",
       "Guatemala                       8849\n",
       "Finland                         7918\n",
       "Austria                         5709\n",
       "Maldives                        4946\n",
       "Jamaica                         4472\n",
       "Oman                            3721\n",
       "Mauritius                       3552\n",
       "Pakistan                        2897\n",
       "Somalia                         2140\n",
       "Italy                           1152\n",
       "Panama                           445\n",
       "Egypt                            295\n",
       "Lebanon                          202\n",
       "Name: Trade Value (US$), dtype: int64"
      ]
     },
     "execution_count": 6,
     "metadata": {},
     "output_type": "execute_result"
    }
   ],
   "source": [
    "partner_totals_exports = pv_exports.groupby(['Partner'])['Trade Value (US$)'].aggregate(sum)\n",
    "partner_totals_exports_sorted = partner_totals_exports.sort(ascending=False, inplace=False)\n",
    "partner_totals_exports_sorted"
   ]
  },
  {
   "cell_type": "code",
   "execution_count": 7,
   "metadata": {
    "collapsed": false
   },
   "outputs": [
    {
     "data": {
      "text/plain": [
       "<matplotlib.axes._subplots.AxesSubplot at 0x6bd55b0>"
      ]
     },
     "execution_count": 7,
     "metadata": {},
     "output_type": "execute_result"
    },
    {
     "data": {
      "image/png": "[encoded data removed]",
      "text/plain": [
       "<matplotlib.figure.Figure at 0x6ba6ef0>"
      ]
     },
     "metadata": {},
     "output_type": "display_data"
    }
   ],
   "source": [
    "partner_totals_exports_sorted.head(11).plot(kind=\"bar\")"
   ]
  },
  {
   "cell_type": "markdown",
   "metadata": {},
   "source": [
    "## Get totals by trading partner for bicycle imports\n",
    "\n",
    "Sort and display list, and show top 10 compared to world in a bar plot."
   ]
  },
  {
   "cell_type": "code",
   "execution_count": 8,
   "metadata": {
    "collapsed": false
   },
   "outputs": [
    {
     "data": {
      "text/plain": [
       "Partner\n",
       "World                       657370983\n",
       "China                       456169691\n",
       "Malaysia                     97305188\n",
       "Singapore                    23725824\n",
       "Germany                      21437766\n",
       "Rep. of Korea                15745942\n",
       "China, Hong Kong SAR         12555514\n",
       "Other Asia, nes               9699650\n",
       "United States of America      5230053\n",
       "Japan                         2401191\n",
       "Mexico                        2053881\n",
       "Austria                       1367421\n",
       "United Kingdom                1289636\n",
       "Turkey                        1194783\n",
       "Philippines                    996628\n",
       "Australia                      783973\n",
       "Switzerland                    688895\n",
       "Czech Rep.                     643732\n",
       "Thailand                       560788\n",
       "Italy                          449230\n",
       "Canada                         423896\n",
       "New Zealand                    348843\n",
       "Netherlands                    316281\n",
       "India                          275683\n",
       "France                         206567\n",
       "Israel                         186906\n",
       "Viet Nam                       149524\n",
       "Greece                         145647\n",
       "Ireland                        130744\n",
       "Dominican Rep.                 118729\n",
       "Indonesia                      105690\n",
       "Denmark                         91351\n",
       "Hungary                         79375\n",
       "Slovenia                        74528\n",
       "Portugal                        56993\n",
       "Sweden                          56284\n",
       "Spain                           55142\n",
       "Romania                         49254\n",
       "South Africa                    46745\n",
       "Fiji                            36470\n",
       "Finland                         36293\n",
       "Ukraine                         23434\n",
       "New Caledonia                   10700\n",
       "United Arab Emirates            10555\n",
       "Pakistan                         8590\n",
       "Norway                           6676\n",
       "Poland                           6577\n",
       "Belgium                          4847\n",
       "Tunisia                          3858\n",
       "Bulgaria                         1536\n",
       "Saudi Arabia                     1300\n",
       "American Samoa                   1166\n",
       "Russian Federation               1010\n",
       "Name: Trade Value (US$), dtype: int64"
      ]
     },
     "execution_count": 8,
     "metadata": {},
     "output_type": "execute_result"
    }
   ],
   "source": [
    "partner_totals_imports = pv_imports.groupby(['Partner'])['Trade Value (US$)'].aggregate(sum)\n",
    "partner_totals_imports_sorted = partner_totals_imports.sort(ascending=False, inplace=False)\n",
    "partner_totals_imports_sorted"
   ]
  },
  {
   "cell_type": "code",
   "execution_count": 9,
   "metadata": {
    "collapsed": false
   },
   "outputs": [
    {
     "data": {
      "text/plain": [
       "<matplotlib.axes._subplots.AxesSubplot at 0x708cc50>"
      ]
     },
     "execution_count": 9,
     "metadata": {},
     "output_type": "execute_result"
    },
    {
     "data": {
      "image/png": "[encoded data removed]",
      "text/plain": [
       "<matplotlib.figure.Figure at 0x6ba6a10>"
      ]
     },
     "metadata": {},
     "output_type": "display_data"
    }
   ],
   "source": [
    "partner_totals_imports_sorted.head(11).plot(kind=\"bar\")"
   ]
  },
  {
   "cell_type": "code",
   "execution_count": null,
   "metadata": {
    "collapsed": true
   },
   "outputs": [],
   "source": []
  }
 ],
 "metadata": {
  "kernelspec": {
   "display_name": "Python 3",
   "language": "python",
   "name": "python3"
  },
  "language_info": {
   "codemirror_mode": {
    "name": "ipython",
    "version": 3
   },
   "file_extension": ".py",
   "mimetype": "text/x-python",
   "name": "python",
   "nbconvert_exporter": "python",
   "pygments_lexer": "ipython3",
   "version": "3.4.3"
  }
 },
 "nbformat": 4,
 "nbformat_minor": 0
}
